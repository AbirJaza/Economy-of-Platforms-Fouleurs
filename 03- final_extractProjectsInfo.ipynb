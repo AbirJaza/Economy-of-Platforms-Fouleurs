{
 "cells": [
  {
   "cell_type": "code",
   "execution_count": 35,
   "metadata": {},
   "outputs": [],
   "source": [
    "import pickle\n",
    "import re\n",
    "import pandas as pd"
   ]
  },
  {
   "cell_type": "code",
   "execution_count": 36,
   "metadata": {},
   "outputs": [],
   "source": [
    "df_source = pickle.load( open( \"df_info.pickle\", \"rb\" ) )"
   ]
  },
  {
   "cell_type": "code",
   "execution_count": 37,
   "metadata": {},
   "outputs": [
    {
     "data": {
      "text/html": [
       "<div>\n",
       "<style scoped>\n",
       "    .dataframe tbody tr th:only-of-type {\n",
       "        vertical-align: middle;\n",
       "    }\n",
       "\n",
       "    .dataframe tbody tr th {\n",
       "        vertical-align: top;\n",
       "    }\n",
       "\n",
       "    .dataframe thead th {\n",
       "        text-align: right;\n",
       "    }\n",
       "</style>\n",
       "<table border=\"1\" class=\"dataframe\">\n",
       "  <thead>\n",
       "    <tr style=\"text-align: right;\">\n",
       "      <th></th>\n",
       "      <th>ProjectName</th>\n",
       "      <th>Information</th>\n",
       "    </tr>\n",
       "  </thead>\n",
       "  <tbody>\n",
       "    <tr>\n",
       "      <th>0</th>\n",
       "      <td>projet-12694-check-ean</td>\n",
       "      <td>Identifiant: #12694; Titre: check ean; Catégor...</td>\n",
       "    </tr>\n",
       "    <tr>\n",
       "      <th>1</th>\n",
       "      <td>projet-12697-echelle-globalist-localist-v1</td>\n",
       "      <td>Identifiant: #12697; Titre: Echelle Globalist-...</td>\n",
       "    </tr>\n",
       "    <tr>\n",
       "      <th>2</th>\n",
       "      <td>projet-12706-hualin-incgrammar-pilot1-nov20</td>\n",
       "      <td>Identifiant: #12706; Titre: Hualin_incgrammar_...</td>\n",
       "    </tr>\n",
       "    <tr>\n",
       "      <th>3</th>\n",
       "      <td>projet-12705-redaction-dun-edito-sur-le-prix-d...</td>\n",
       "      <td>Identifiant: #12705; Titre: Rédaction d'un édi...</td>\n",
       "    </tr>\n",
       "    <tr>\n",
       "      <th>4</th>\n",
       "      <td>projet-12704-redaction-dun-edito-sur-le-prix-i...</td>\n",
       "      <td>Identifiant: #12704; Titre: Rédaction d'un édi...</td>\n",
       "    </tr>\n",
       "  </tbody>\n",
       "</table>\n",
       "</div>"
      ],
      "text/plain": [
       "                                         ProjectName  \\\n",
       "0                             projet-12694-check-ean   \n",
       "1         projet-12697-echelle-globalist-localist-v1   \n",
       "2        projet-12706-hualin-incgrammar-pilot1-nov20   \n",
       "3  projet-12705-redaction-dun-edito-sur-le-prix-d...   \n",
       "4  projet-12704-redaction-dun-edito-sur-le-prix-i...   \n",
       "\n",
       "                                         Information  \n",
       "0  Identifiant: #12694; Titre: check ean; Catégor...  \n",
       "1  Identifiant: #12697; Titre: Echelle Globalist-...  \n",
       "2  Identifiant: #12706; Titre: Hualin_incgrammar_...  \n",
       "3  Identifiant: #12705; Titre: Rédaction d'un édi...  \n",
       "4  Identifiant: #12704; Titre: Rédaction d'un édi...  "
      ]
     },
     "execution_count": 37,
     "metadata": {},
     "output_type": "execute_result"
    }
   ],
   "source": [
    "df_source.head()"
   ]
  },
  {
   "cell_type": "code",
   "execution_count": 38,
   "metadata": {},
   "outputs": [
    {
     "name": "stdout",
     "output_type": "stream",
     "text": [
      "<class 'pandas.core.frame.DataFrame'>\n",
      "RangeIndex: 4277 entries, 0 to 4276\n",
      "Data columns (total 2 columns):\n",
      "ProjectName    4277 non-null object\n",
      "Information    4277 non-null object\n",
      "dtypes: object(2)\n",
      "memory usage: 66.9+ KB\n"
     ]
    }
   ],
   "source": [
    "df_source.info()"
   ]
  },
  {
   "cell_type": "code",
   "execution_count": 59,
   "metadata": {},
   "outputs": [],
   "source": [
    "df = pd.DataFrame(columns=['ProjectName', 'Information'])"
   ]
  },
  {
   "cell_type": "code",
   "execution_count": 60,
   "metadata": {},
   "outputs": [],
   "source": [
    "for index, row in df_source.iterrows():\n",
    "    if 'Identifiant: #' in row.Information:\n",
    "        df = df.append(row)"
   ]
  },
  {
   "cell_type": "code",
   "execution_count": 61,
   "metadata": {},
   "outputs": [
    {
     "data": {
      "text/html": [
       "<div>\n",
       "<style scoped>\n",
       "    .dataframe tbody tr th:only-of-type {\n",
       "        vertical-align: middle;\n",
       "    }\n",
       "\n",
       "    .dataframe tbody tr th {\n",
       "        vertical-align: top;\n",
       "    }\n",
       "\n",
       "    .dataframe thead th {\n",
       "        text-align: right;\n",
       "    }\n",
       "</style>\n",
       "<table border=\"1\" class=\"dataframe\">\n",
       "  <thead>\n",
       "    <tr style=\"text-align: right;\">\n",
       "      <th></th>\n",
       "      <th>ProjectName</th>\n",
       "      <th>Information</th>\n",
       "    </tr>\n",
       "  </thead>\n",
       "  <tbody>\n",
       "    <tr>\n",
       "      <th>0</th>\n",
       "      <td>projet-12694-check-ean</td>\n",
       "      <td>Identifiant: #12694; Titre: check ean; Catégor...</td>\n",
       "    </tr>\n",
       "    <tr>\n",
       "      <th>1</th>\n",
       "      <td>projet-12697-echelle-globalist-localist-v1</td>\n",
       "      <td>Identifiant: #12697; Titre: Echelle Globalist-...</td>\n",
       "    </tr>\n",
       "    <tr>\n",
       "      <th>2</th>\n",
       "      <td>projet-12706-hualin-incgrammar-pilot1-nov20</td>\n",
       "      <td>Identifiant: #12706; Titre: Hualin_incgrammar_...</td>\n",
       "    </tr>\n",
       "    <tr>\n",
       "      <th>3</th>\n",
       "      <td>projet-12705-redaction-dun-edito-sur-le-prix-d...</td>\n",
       "      <td>Identifiant: #12705; Titre: Rédaction d'un édi...</td>\n",
       "    </tr>\n",
       "    <tr>\n",
       "      <th>4</th>\n",
       "      <td>projet-12704-redaction-dun-edito-sur-le-prix-i...</td>\n",
       "      <td>Identifiant: #12704; Titre: Rédaction d'un édi...</td>\n",
       "    </tr>\n",
       "  </tbody>\n",
       "</table>\n",
       "</div>"
      ],
      "text/plain": [
       "                                         ProjectName  \\\n",
       "0                             projet-12694-check-ean   \n",
       "1         projet-12697-echelle-globalist-localist-v1   \n",
       "2        projet-12706-hualin-incgrammar-pilot1-nov20   \n",
       "3  projet-12705-redaction-dun-edito-sur-le-prix-d...   \n",
       "4  projet-12704-redaction-dun-edito-sur-le-prix-i...   \n",
       "\n",
       "                                         Information  \n",
       "0  Identifiant: #12694; Titre: check ean; Catégor...  \n",
       "1  Identifiant: #12697; Titre: Echelle Globalist-...  \n",
       "2  Identifiant: #12706; Titre: Hualin_incgrammar_...  \n",
       "3  Identifiant: #12705; Titre: Rédaction d'un édi...  \n",
       "4  Identifiant: #12704; Titre: Rédaction d'un édi...  "
      ]
     },
     "execution_count": 61,
     "metadata": {},
     "output_type": "execute_result"
    }
   ],
   "source": [
    "df.head()"
   ]
  },
  {
   "cell_type": "code",
   "execution_count": 62,
   "metadata": {},
   "outputs": [
    {
     "name": "stdout",
     "output_type": "stream",
     "text": [
      "<class 'pandas.core.frame.DataFrame'>\n",
      "Int64Index: 4094 entries, 0 to 4275\n",
      "Data columns (total 2 columns):\n",
      "ProjectName    4094 non-null object\n",
      "Information    4094 non-null object\n",
      "dtypes: object(2)\n",
      "memory usage: 96.0+ KB\n"
     ]
    }
   ],
   "source": [
    "df.info()"
   ]
  },
  {
   "cell_type": "code",
   "execution_count": 63,
   "metadata": {},
   "outputs": [],
   "source": [
    "findID = re.compile(r\"Identifiant: #(.+?(?=;))\")\n",
    "findTitre = re.compile(r\"Titre: (.+?(?=;))\")\n",
    "findCertif = re.compile(r\"Certification.?: (.+?(?=;))\")\n",
    "findCat = re.compile(r\"Cat.?gorie: (.+?(?=;))\")\n",
    "findDesc = re.compile(r\"Description.?: (.+?(?=;))\")\n",
    "findTemps = re.compile(r\"Temps par t.?che: (.+?(?=;))\")\n",
    "findDefer = re.compile(r\"D.?frai.?ment: (.+?(?=;))\")\n",
    "findHoraire = re.compile(r\"Taux horaire: (.+?(?=;))\")\n",
    "findNbrFoul = re.compile(r\"Nombre de .?ouleur.?: (.+?(?=;))\")\n",
    "findDate = re.compile(r\"Date de cr.?ation: (.+?(?=$))\")"
   ]
  },
  {
   "cell_type": "code",
   "execution_count": 64,
   "metadata": {},
   "outputs": [],
   "source": [
    "def getResultGroup(regex):\n",
    "    if regex:\n",
    "        return regex.group(1)\n",
    "    else:\n",
    "        return ''"
   ]
  },
  {
   "cell_type": "code",
   "execution_count": 65,
   "metadata": {},
   "outputs": [],
   "source": [
    "df['Identifiant'] = df.apply(lambda row: getResultGroup(findID.match(row.Information)), axis=1)"
   ]
  },
  {
   "cell_type": "code",
   "execution_count": 66,
   "metadata": {},
   "outputs": [],
   "source": [
    "df['Titre'] = df.apply(lambda row: getResultGroup(findTitre.search(row.Information)), axis=1)"
   ]
  },
  {
   "cell_type": "code",
   "execution_count": 67,
   "metadata": {},
   "outputs": [],
   "source": [
    "df['Certification'] = df.apply(lambda row: getResultGroup(findCertif.search(row.Information)), axis=1)"
   ]
  },
  {
   "cell_type": "code",
   "execution_count": 68,
   "metadata": {},
   "outputs": [],
   "source": [
    "df['Categorie'] = df.apply(lambda row: getResultGroup(findCat.search(row.Information)), axis=1)"
   ]
  },
  {
   "cell_type": "code",
   "execution_count": 69,
   "metadata": {},
   "outputs": [],
   "source": [
    "df['Description'] = df.apply(lambda row: getResultGroup(findDesc.search(row.Information)), axis=1)"
   ]
  },
  {
   "cell_type": "code",
   "execution_count": 70,
   "metadata": {},
   "outputs": [],
   "source": [
    "df['Temps par tache'] = df.apply(lambda row: getResultGroup(findTemps.search(row.Information)), axis=1)"
   ]
  },
  {
   "cell_type": "code",
   "execution_count": 71,
   "metadata": {},
   "outputs": [],
   "source": [
    "df['Defraiement'] = df.apply(lambda row: getResultGroup(findDefer.search(row.Information)).replace(' €', ''), axis=1)"
   ]
  },
  {
   "cell_type": "code",
   "execution_count": 72,
   "metadata": {},
   "outputs": [],
   "source": [
    "df['Taux horaire'] = df.apply(lambda row: getResultGroup(findHoraire.search(row.Information)).replace(' €', ''), axis=1)"
   ]
  },
  {
   "cell_type": "code",
   "execution_count": 73,
   "metadata": {},
   "outputs": [],
   "source": [
    "df['Nombre de Fouleur'] = df.apply(lambda row: getResultGroup(findNbrFoul.search(row.Information)), axis=1)"
   ]
  },
  {
   "cell_type": "code",
   "execution_count": 74,
   "metadata": {},
   "outputs": [],
   "source": [
    "df['Date de creation'] = df.apply(lambda row: getResultGroup(findDate.search(row.Information)), axis=1)"
   ]
  },
  {
   "cell_type": "code",
   "execution_count": null,
   "metadata": {},
   "outputs": [],
   "source": []
  },
  {
   "cell_type": "code",
   "execution_count": 75,
   "metadata": {},
   "outputs": [],
   "source": [
    "df.rename(index=str, columns={\"ProjectName\": \"Nom Projet\", \"Information\": \"Informations\"}, inplace=True)"
   ]
  },
  {
   "cell_type": "code",
   "execution_count": 76,
   "metadata": {},
   "outputs": [
    {
     "data": {
      "text/html": [
       "<div>\n",
       "<style scoped>\n",
       "    .dataframe tbody tr th:only-of-type {\n",
       "        vertical-align: middle;\n",
       "    }\n",
       "\n",
       "    .dataframe tbody tr th {\n",
       "        vertical-align: top;\n",
       "    }\n",
       "\n",
       "    .dataframe thead th {\n",
       "        text-align: right;\n",
       "    }\n",
       "</style>\n",
       "<table border=\"1\" class=\"dataframe\">\n",
       "  <thead>\n",
       "    <tr style=\"text-align: right;\">\n",
       "      <th></th>\n",
       "      <th>Nom Projet</th>\n",
       "      <th>Informations</th>\n",
       "      <th>Identifiant</th>\n",
       "      <th>Titre</th>\n",
       "      <th>Certification</th>\n",
       "      <th>Categorie</th>\n",
       "      <th>Description</th>\n",
       "      <th>Temps par tache</th>\n",
       "      <th>Defraiement</th>\n",
       "      <th>Taux horaire</th>\n",
       "      <th>Nombre de Fouleur</th>\n",
       "      <th>Date de creation</th>\n",
       "    </tr>\n",
       "  </thead>\n",
       "  <tbody>\n",
       "    <tr>\n",
       "      <th>0</th>\n",
       "      <td>projet-12694-check-ean</td>\n",
       "      <td>Identifiant: #12694; Titre: check ean; Catégor...</td>\n",
       "      <td>12694</td>\n",
       "      <td>check ean</td>\n",
       "      <td></td>\n",
       "      <td>Recherche</td>\n",
       "      <td></td>\n",
       "      <td>00:00:30</td>\n",
       "      <td>0.03</td>\n",
       "      <td>3.6</td>\n",
       "      <td></td>\n",
       "      <td>11/20/2018 2:46:35 PM</td>\n",
       "    </tr>\n",
       "    <tr>\n",
       "      <th>1</th>\n",
       "      <td>projet-12697-echelle-globalist-localist-v1</td>\n",
       "      <td>Identifiant: #12697; Titre: Echelle Globalist-...</td>\n",
       "      <td>12697</td>\n",
       "      <td>Echelle Globalist-Localist V1</td>\n",
       "      <td></td>\n",
       "      <td>Recherche</td>\n",
       "      <td></td>\n",
       "      <td>00:06:00</td>\n",
       "      <td>0.4</td>\n",
       "      <td>4</td>\n",
       "      <td></td>\n",
       "      <td>11/20/2018 2:42:00 PM</td>\n",
       "    </tr>\n",
       "    <tr>\n",
       "      <th>2</th>\n",
       "      <td>projet-12706-hualin-incgrammar-pilot1-nov20</td>\n",
       "      <td>Identifiant: #12706; Titre: Hualin_incgrammar_...</td>\n",
       "      <td>12706</td>\n",
       "      <td>Hualin_incgrammar_pilot1_nov20</td>\n",
       "      <td></td>\n",
       "      <td>Recherche</td>\n",
       "      <td></td>\n",
       "      <td>00:02:00</td>\n",
       "      <td>0.1</td>\n",
       "      <td>3</td>\n",
       "      <td></td>\n",
       "      <td>11/20/2018 2:33:12 PM</td>\n",
       "    </tr>\n",
       "    <tr>\n",
       "      <th>3</th>\n",
       "      <td>projet-12705-redaction-dun-edito-sur-le-prix-d...</td>\n",
       "      <td>Identifiant: #12705; Titre: Rédaction d'un édi...</td>\n",
       "      <td>12705</td>\n",
       "      <td>Rédaction d'un édito sur Le Prix des Libraires...</td>\n",
       "      <td>Certification Rédaction technique - Niveau 1</td>\n",
       "      <td>Rédaction</td>\n",
       "      <td></td>\n",
       "      <td>00:07:30</td>\n",
       "      <td>1.5</td>\n",
       "      <td>12</td>\n",
       "      <td></td>\n",
       "      <td>11/20/2018 11:28:31 AM</td>\n",
       "    </tr>\n",
       "    <tr>\n",
       "      <th>4</th>\n",
       "      <td>projet-12704-redaction-dun-edito-sur-le-prix-i...</td>\n",
       "      <td>Identifiant: #12704; Titre: Rédaction d'un édi...</td>\n",
       "      <td>12704</td>\n",
       "      <td>Rédaction d'un édito sur Le Prix Interallié (P...</td>\n",
       "      <td>Certification Rédaction technique - Niveau 1</td>\n",
       "      <td>Rédaction</td>\n",
       "      <td></td>\n",
       "      <td>00:07:30</td>\n",
       "      <td>1.5</td>\n",
       "      <td>12</td>\n",
       "      <td></td>\n",
       "      <td>11/20/2018 11:23:02 AM</td>\n",
       "    </tr>\n",
       "  </tbody>\n",
       "</table>\n",
       "</div>"
      ],
      "text/plain": [
       "                                          Nom Projet  \\\n",
       "0                             projet-12694-check-ean   \n",
       "1         projet-12697-echelle-globalist-localist-v1   \n",
       "2        projet-12706-hualin-incgrammar-pilot1-nov20   \n",
       "3  projet-12705-redaction-dun-edito-sur-le-prix-d...   \n",
       "4  projet-12704-redaction-dun-edito-sur-le-prix-i...   \n",
       "\n",
       "                                        Informations Identifiant  \\\n",
       "0  Identifiant: #12694; Titre: check ean; Catégor...       12694   \n",
       "1  Identifiant: #12697; Titre: Echelle Globalist-...       12697   \n",
       "2  Identifiant: #12706; Titre: Hualin_incgrammar_...       12706   \n",
       "3  Identifiant: #12705; Titre: Rédaction d'un édi...       12705   \n",
       "4  Identifiant: #12704; Titre: Rédaction d'un édi...       12704   \n",
       "\n",
       "                                               Titre  \\\n",
       "0                                          check ean   \n",
       "1                      Echelle Globalist-Localist V1   \n",
       "2                     Hualin_incgrammar_pilot1_nov20   \n",
       "3  Rédaction d'un édito sur Le Prix des Libraires...   \n",
       "4  Rédaction d'un édito sur Le Prix Interallié (P...   \n",
       "\n",
       "                                  Certification  Categorie Description  \\\n",
       "0                                                Recherche               \n",
       "1                                                Recherche               \n",
       "2                                                Recherche               \n",
       "3  Certification Rédaction technique - Niveau 1  Rédaction               \n",
       "4  Certification Rédaction technique - Niveau 1  Rédaction               \n",
       "\n",
       "  Temps par tache Defraiement Taux horaire Nombre de Fouleur  \\\n",
       "0        00:00:30        0.03          3.6                     \n",
       "1        00:06:00         0.4            4                     \n",
       "2        00:02:00         0.1            3                     \n",
       "3        00:07:30         1.5           12                     \n",
       "4        00:07:30         1.5           12                     \n",
       "\n",
       "         Date de creation  \n",
       "0   11/20/2018 2:46:35 PM  \n",
       "1   11/20/2018 2:42:00 PM  \n",
       "2   11/20/2018 2:33:12 PM  \n",
       "3  11/20/2018 11:28:31 AM  \n",
       "4  11/20/2018 11:23:02 AM  "
      ]
     },
     "execution_count": 76,
     "metadata": {},
     "output_type": "execute_result"
    }
   ],
   "source": [
    "df.head()"
   ]
  },
  {
   "cell_type": "code",
   "execution_count": 77,
   "metadata": {},
   "outputs": [],
   "source": [
    "df.to_excel('fouleurs.xlsx')"
   ]
  },
  {
   "cell_type": "code",
   "execution_count": null,
   "metadata": {},
   "outputs": [],
   "source": []
  },
  {
   "cell_type": "code",
   "execution_count": null,
   "metadata": {},
   "outputs": [],
   "source": []
  }
 ],
 "metadata": {
  "kernelspec": {
   "display_name": "Python 3",
   "language": "python",
   "name": "python3"
  },
  "language_info": {
   "codemirror_mode": {
    "name": "ipython",
    "version": 3
   },
   "file_extension": ".py",
   "mimetype": "text/x-python",
   "name": "python",
   "nbconvert_exporter": "python",
   "pygments_lexer": "ipython3",
   "version": "3.6.5"
  }
 },
 "nbformat": 4,
 "nbformat_minor": 2
}
