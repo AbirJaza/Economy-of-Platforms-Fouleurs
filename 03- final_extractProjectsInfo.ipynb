{
 "cells": [
  {
   "cell_type": "code",
   "execution_count": 1,
   "metadata": {},
   "outputs": [],
   "source": [
    "import pickle\n",
    "import re\n",
    "import pandas as pd"
   ]
  },
  {
   "cell_type": "code",
   "execution_count": 2,
   "metadata": {},
   "outputs": [],
   "source": [
    "df = pickle.load( open( \"df_info.pickle\", \"rb\" ) )"
   ]
  },
  {
   "cell_type": "code",
   "execution_count": 3,
   "metadata": {},
   "outputs": [
    {
     "data": {
      "text/html": [
       "<div>\n",
       "<style scoped>\n",
       "    .dataframe tbody tr th:only-of-type {\n",
       "        vertical-align: middle;\n",
       "    }\n",
       "\n",
       "    .dataframe tbody tr th {\n",
       "        vertical-align: top;\n",
       "    }\n",
       "\n",
       "    .dataframe thead th {\n",
       "        text-align: right;\n",
       "    }\n",
       "</style>\n",
       "<table border=\"1\" class=\"dataframe\">\n",
       "  <thead>\n",
       "    <tr style=\"text-align: right;\">\n",
       "      <th></th>\n",
       "      <th>ProjectName</th>\n",
       "      <th>Information</th>\n",
       "    </tr>\n",
       "  </thead>\n",
       "  <tbody>\n",
       "    <tr>\n",
       "      <th>0</th>\n",
       "      <td>projet-12620-test-2</td>\n",
       "      <td>Identifiant: #12620; Titre: Test 2; Catégorie:...</td>\n",
       "    </tr>\n",
       "    <tr>\n",
       "      <th>1</th>\n",
       "      <td>projet-12618-test</td>\n",
       "      <td>Identifiant: #12618; Titre: Test; Catégorie: P...</td>\n",
       "    </tr>\n",
       "    <tr>\n",
       "      <th>2</th>\n",
       "      <td>projet-12617-check-ean</td>\n",
       "      <td>Identifiant: #12617; Titre: check ean; Catégor...</td>\n",
       "    </tr>\n",
       "    <tr>\n",
       "      <th>3</th>\n",
       "      <td>projet-12616-redaction-dun-edito-sur-la-marque...</td>\n",
       "      <td>Identifiant: #12616; Titre: Rédaction d'un édi...</td>\n",
       "    </tr>\n",
       "    <tr>\n",
       "      <th>4</th>\n",
       "      <td>projet-12615-redaction-dun-edito-sur-la-marque...</td>\n",
       "      <td>Identifiant: #12615; Titre: Rédaction d'un édi...</td>\n",
       "    </tr>\n",
       "  </tbody>\n",
       "</table>\n",
       "</div>"
      ],
      "text/plain": [
       "                                         ProjectName  \\\n",
       "0                                projet-12620-test-2   \n",
       "1                                  projet-12618-test   \n",
       "2                             projet-12617-check-ean   \n",
       "3  projet-12616-redaction-dun-edito-sur-la-marque...   \n",
       "4  projet-12615-redaction-dun-edito-sur-la-marque...   \n",
       "\n",
       "                                         Information  \n",
       "0  Identifiant: #12620; Titre: Test 2; Catégorie:...  \n",
       "1  Identifiant: #12618; Titre: Test; Catégorie: P...  \n",
       "2  Identifiant: #12617; Titre: check ean; Catégor...  \n",
       "3  Identifiant: #12616; Titre: Rédaction d'un édi...  \n",
       "4  Identifiant: #12615; Titre: Rédaction d'un édi...  "
      ]
     },
     "execution_count": 3,
     "metadata": {},
     "output_type": "execute_result"
    }
   ],
   "source": [
    "df.head()"
   ]
  },
  {
   "cell_type": "code",
   "execution_count": 9,
   "metadata": {},
   "outputs": [],
   "source": [
    "findID = re.compile(r\"Identifiant: #(.+?(?=;))\")\n",
    "findTitre = re.compile(r\"Titre: (.+?(?=;))\")\n",
    "findCertif = re.compile(r\"Certification.?: (.+?(?=;))\")\n",
    "findCat = re.compile(r\"Cat.?gorie: (.+?(?=;))\")\n",
    "findDesc = re.compile(r\"Description.?: (.+?(?=;))\")\n",
    "findTemps = re.compile(r\"Temps par t.?che: (.+?(?=;))\")\n",
    "findDefer = re.compile(r\"D.?frai.?ment: (.+?(?=;))\")\n",
    "findHoraire = re.compile(r\"Taux horaire: (.+?(?=;))\")\n",
    "findNbrFoul = re.compile(r\"Nombre de .?ouleur.?: (.+?(?=;))\")\n",
    "findDate = re.compile(r\"Date de cr.?ation: (.+?(?=$))\")"
   ]
  },
  {
   "cell_type": "code",
   "execution_count": 10,
   "metadata": {},
   "outputs": [],
   "source": [
    "def getResultGroup(regex):\n",
    "    if regex:\n",
    "        return regex.group(1)\n",
    "    else:\n",
    "        return ''"
   ]
  },
  {
   "cell_type": "code",
   "execution_count": 11,
   "metadata": {},
   "outputs": [],
   "source": [
    "df['Identifiant'] = df.apply(lambda row: getResultGroup(findID.match(row.Information)), axis=1)"
   ]
  },
  {
   "cell_type": "code",
   "execution_count": 12,
   "metadata": {},
   "outputs": [],
   "source": [
    "df['Titre'] = df.apply(lambda row: getResultGroup(findTitre.search(row.Information)), axis=1)"
   ]
  },
  {
   "cell_type": "code",
   "execution_count": 13,
   "metadata": {},
   "outputs": [],
   "source": [
    "df['Certification'] = df.apply(lambda row: getResultGroup(findCertif.search(row.Information)), axis=1)"
   ]
  },
  {
   "cell_type": "code",
   "execution_count": 14,
   "metadata": {},
   "outputs": [],
   "source": [
    "df['Categorie'] = df.apply(lambda row: getResultGroup(findCat.search(row.Information)), axis=1)"
   ]
  },
  {
   "cell_type": "code",
   "execution_count": 15,
   "metadata": {},
   "outputs": [],
   "source": [
    "df['Description'] = df.apply(lambda row: getResultGroup(findDesc.search(row.Information)), axis=1)"
   ]
  },
  {
   "cell_type": "code",
   "execution_count": 16,
   "metadata": {},
   "outputs": [],
   "source": [
    "df['Temps par tache'] = df.apply(lambda row: getResultGroup(findTemps.search(row.Information)), axis=1)"
   ]
  },
  {
   "cell_type": "code",
   "execution_count": 17,
   "metadata": {},
   "outputs": [],
   "source": [
    "df['Defraiement'] = df.apply(lambda row: getResultGroup(findDefer.search(row.Information)), axis=1)"
   ]
  },
  {
   "cell_type": "code",
   "execution_count": 18,
   "metadata": {},
   "outputs": [],
   "source": [
    "df['Taux horaire'] = df.apply(lambda row: getResultGroup(findHoraire.search(row.Information)), axis=1)"
   ]
  },
  {
   "cell_type": "code",
   "execution_count": 19,
   "metadata": {},
   "outputs": [],
   "source": [
    "df['Nombre de Fouleur'] = df.apply(lambda row: getResultGroup(findNbrFoul.search(row.Information)), axis=1)"
   ]
  },
  {
   "cell_type": "code",
   "execution_count": 20,
   "metadata": {},
   "outputs": [],
   "source": [
    "df['Date de creation'] = df.apply(lambda row: getResultGroup(findDate.search(row.Information)), axis=1)"
   ]
  },
  {
   "cell_type": "code",
   "execution_count": null,
   "metadata": {},
   "outputs": [],
   "source": []
  },
  {
   "cell_type": "code",
   "execution_count": 21,
   "metadata": {},
   "outputs": [],
   "source": [
    "df.rename(index=str, columns={\"ProjectName\": \"Nom Projet\", \"Information\": \"Informations\"}, inplace=True)"
   ]
  },
  {
   "cell_type": "code",
   "execution_count": 22,
   "metadata": {},
   "outputs": [
    {
     "data": {
      "text/html": [
       "<div>\n",
       "<style scoped>\n",
       "    .dataframe tbody tr th:only-of-type {\n",
       "        vertical-align: middle;\n",
       "    }\n",
       "\n",
       "    .dataframe tbody tr th {\n",
       "        vertical-align: top;\n",
       "    }\n",
       "\n",
       "    .dataframe thead th {\n",
       "        text-align: right;\n",
       "    }\n",
       "</style>\n",
       "<table border=\"1\" class=\"dataframe\">\n",
       "  <thead>\n",
       "    <tr style=\"text-align: right;\">\n",
       "      <th></th>\n",
       "      <th>Nom Projet</th>\n",
       "      <th>Informations</th>\n",
       "      <th>Identifiant</th>\n",
       "      <th>Titre</th>\n",
       "      <th>Certification</th>\n",
       "      <th>Categorie</th>\n",
       "      <th>Description</th>\n",
       "      <th>Temps par tache</th>\n",
       "      <th>Defraiement</th>\n",
       "      <th>Taux horaire</th>\n",
       "      <th>Nombre de Fouleur</th>\n",
       "      <th>Date de creation</th>\n",
       "    </tr>\n",
       "  </thead>\n",
       "  <tbody>\n",
       "    <tr>\n",
       "      <th>0</th>\n",
       "      <td>projet-12620-test-2</td>\n",
       "      <td>Identifiant: #12620; Titre: Test 2; Catégorie:...</td>\n",
       "      <td>12620</td>\n",
       "      <td>Test 2</td>\n",
       "      <td></td>\n",
       "      <td>Panel</td>\n",
       "      <td></td>\n",
       "      <td>00:00:20</td>\n",
       "      <td>0.06 €</td>\n",
       "      <td>10.8 €</td>\n",
       "      <td></td>\n",
       "      <td>11/5/2018 11:36:51 AM</td>\n",
       "    </tr>\n",
       "    <tr>\n",
       "      <th>1</th>\n",
       "      <td>projet-12618-test</td>\n",
       "      <td>Identifiant: #12618; Titre: Test; Catégorie: P...</td>\n",
       "      <td>12618</td>\n",
       "      <td>Test</td>\n",
       "      <td></td>\n",
       "      <td>Panel</td>\n",
       "      <td></td>\n",
       "      <td>00:00:20</td>\n",
       "      <td>0.06 €</td>\n",
       "      <td>10.8 €</td>\n",
       "      <td></td>\n",
       "      <td>11/5/2018 11:29:15 AM</td>\n",
       "    </tr>\n",
       "    <tr>\n",
       "      <th>2</th>\n",
       "      <td>projet-12617-check-ean</td>\n",
       "      <td>Identifiant: #12617; Titre: check ean; Catégor...</td>\n",
       "      <td>12617</td>\n",
       "      <td>check ean</td>\n",
       "      <td></td>\n",
       "      <td>Recherche</td>\n",
       "      <td></td>\n",
       "      <td>00:00:30</td>\n",
       "      <td>0.03 €</td>\n",
       "      <td>3.6 €</td>\n",
       "      <td></td>\n",
       "      <td>11/5/2018 10:02:13 AM</td>\n",
       "    </tr>\n",
       "    <tr>\n",
       "      <th>3</th>\n",
       "      <td>projet-12616-redaction-dun-edito-sur-la-marque...</td>\n",
       "      <td>Identifiant: #12616; Titre: Rédaction d'un édi...</td>\n",
       "      <td>12616</td>\n",
       "      <td>Rédaction d'un édito sur la marque Fiskars</td>\n",
       "      <td>Certification Rédaction technique - Niveau 1</td>\n",
       "      <td>Rédaction</td>\n",
       "      <td></td>\n",
       "      <td>00:07:30</td>\n",
       "      <td>1.5 €</td>\n",
       "      <td>12 €</td>\n",
       "      <td></td>\n",
       "      <td>11/5/2018 9:34:37 AM</td>\n",
       "    </tr>\n",
       "    <tr>\n",
       "      <th>4</th>\n",
       "      <td>projet-12615-redaction-dun-edito-sur-la-marque...</td>\n",
       "      <td>Identifiant: #12615; Titre: Rédaction d'un édi...</td>\n",
       "      <td>12615</td>\n",
       "      <td>Rédaction d'un édito sur la marque Fimo</td>\n",
       "      <td>Certification Rédaction technique - Niveau 1</td>\n",
       "      <td>Rédaction</td>\n",
       "      <td></td>\n",
       "      <td>00:07:30</td>\n",
       "      <td>1.5 €</td>\n",
       "      <td>12 €</td>\n",
       "      <td></td>\n",
       "      <td>11/5/2018 9:32:41 AM</td>\n",
       "    </tr>\n",
       "  </tbody>\n",
       "</table>\n",
       "</div>"
      ],
      "text/plain": [
       "                                          Nom Projet  \\\n",
       "0                                projet-12620-test-2   \n",
       "1                                  projet-12618-test   \n",
       "2                             projet-12617-check-ean   \n",
       "3  projet-12616-redaction-dun-edito-sur-la-marque...   \n",
       "4  projet-12615-redaction-dun-edito-sur-la-marque...   \n",
       "\n",
       "                                        Informations Identifiant  \\\n",
       "0  Identifiant: #12620; Titre: Test 2; Catégorie:...       12620   \n",
       "1  Identifiant: #12618; Titre: Test; Catégorie: P...       12618   \n",
       "2  Identifiant: #12617; Titre: check ean; Catégor...       12617   \n",
       "3  Identifiant: #12616; Titre: Rédaction d'un édi...       12616   \n",
       "4  Identifiant: #12615; Titre: Rédaction d'un édi...       12615   \n",
       "\n",
       "                                        Titre  \\\n",
       "0                                      Test 2   \n",
       "1                                        Test   \n",
       "2                                   check ean   \n",
       "3  Rédaction d'un édito sur la marque Fiskars   \n",
       "4     Rédaction d'un édito sur la marque Fimo   \n",
       "\n",
       "                                  Certification  Categorie Description  \\\n",
       "0                                                    Panel               \n",
       "1                                                    Panel               \n",
       "2                                                Recherche               \n",
       "3  Certification Rédaction technique - Niveau 1  Rédaction               \n",
       "4  Certification Rédaction technique - Niveau 1  Rédaction               \n",
       "\n",
       "  Temps par tache Defraiement Taux horaire Nombre de Fouleur  \\\n",
       "0        00:00:20      0.06 €       10.8 €                     \n",
       "1        00:00:20      0.06 €       10.8 €                     \n",
       "2        00:00:30      0.03 €        3.6 €                     \n",
       "3        00:07:30       1.5 €         12 €                     \n",
       "4        00:07:30       1.5 €         12 €                     \n",
       "\n",
       "        Date de creation  \n",
       "0  11/5/2018 11:36:51 AM  \n",
       "1  11/5/2018 11:29:15 AM  \n",
       "2  11/5/2018 10:02:13 AM  \n",
       "3   11/5/2018 9:34:37 AM  \n",
       "4   11/5/2018 9:32:41 AM  "
      ]
     },
     "execution_count": 22,
     "metadata": {},
     "output_type": "execute_result"
    }
   ],
   "source": [
    "df.head()"
   ]
  },
  {
   "cell_type": "code",
   "execution_count": 23,
   "metadata": {},
   "outputs": [],
   "source": [
    "df.to_excel('fouleurs.xlsx')"
   ]
  },
  {
   "cell_type": "code",
   "execution_count": null,
   "metadata": {},
   "outputs": [],
   "source": []
  },
  {
   "cell_type": "code",
   "execution_count": null,
   "metadata": {},
   "outputs": [],
   "source": []
  }
 ],
 "metadata": {
  "kernelspec": {
   "display_name": "Python 3",
   "language": "python",
   "name": "python3"
  },
  "language_info": {
   "codemirror_mode": {
    "name": "ipython",
    "version": 3
   },
   "file_extension": ".py",
   "mimetype": "text/x-python",
   "name": "python",
   "nbconvert_exporter": "python",
   "pygments_lexer": "ipython3",
   "version": "3.6.5"
  }
 },
 "nbformat": 4,
 "nbformat_minor": 2
}
